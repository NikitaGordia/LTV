{
 "cells": [
  {
   "metadata": {},
   "cell_type": "markdown",
   "source": [
    "## Init\n",
    "Let's download data\n"
   ]
  },
  {
   "metadata": {
    "trusted": true
   },
   "cell_type": "code",
   "source": [
    "import pandas as pd\n",
    "\n",
    "raw_data = pd.read_csv('../data/data_analytics.csv')\n",
    "raw_data"
   ],
   "execution_count": 13,
   "outputs": [
    {
     "data": {
      "text/plain": "      Event Date  App Apple ID       Subscription Name  \\\n0     2019-07-15             1  weekly 9.99 + 7D trial   \n1     2019-07-15             1  weekly 9.99 + 7D trial   \n2     2019-07-15             1  weekly 9.99 + 7D trial   \n3     2019-07-15             1  weekly 9.99 + 7D trial   \n4     2019-07-15             1  weekly 9.99 + 7D trial   \n...          ...           ...                     ...   \n2375  2019-08-24             1  weekly 9.99 + 7D trial   \n2376  2019-08-24             1  weekly 9.99 + 7D trial   \n2377  2019-08-24             1  weekly 9.99 + 7D trial   \n2378  2019-08-24             1  weekly 9.99 + 7D trial   \n2379  2019-08-24             1  weekly 9.99 + 7D trial   \n\n     Standard Subscription Duration  Promotional Offer Name  \\\n0                            7 Days                     NaN   \n1                            7 Days                     NaN   \n2                            7 Days                     NaN   \n3                            7 Days                     NaN   \n4                            7 Days                     NaN   \n...                             ...                     ...   \n2375                         7 Days                     NaN   \n2376                         7 Days                     NaN   \n2377                         7 Days                     NaN   \n2378                         7 Days                     NaN   \n2379                         7 Days                     NaN   \n\n      Promotional Offer ID Subscription Offer Type  \\\n0                      NaN              Free Trial   \n1                      NaN              Free Trial   \n2                      NaN              Free Trial   \n3                      NaN              Free Trial   \n4                      NaN              Free Trial   \n...                    ...                     ...   \n2375                   NaN                     NaN   \n2376                   NaN                     NaN   \n2377                   NaN                     NaN   \n2378                   NaN                     NaN   \n2379                   NaN                     NaN   \n\n     Subscription Offer Duration  Marketing Opt-In Duration Customer Currency  \\\n0                         7 Days                        NaN               IDR   \n1                         7 Days                        NaN               USD   \n2                         7 Days                        NaN               INR   \n3                         7 Days                        NaN               GBP   \n4                         7 Days                        NaN               INR   \n...                          ...                        ...               ...   \n2375                         NaN                        NaN               MYR   \n2376                         NaN                        NaN               USD   \n2377                         NaN                        NaN               INR   \n2378                         NaN                        NaN               USD   \n2379                         NaN                        NaN               MYR   \n\n     Proceeds Currency  Device Country       Subscriber ID  \\\n0                  IDR  iPhone      ID  223411322456765433   \n1                  USD  iPhone      US  223411322456765434   \n2                  INR  iPhone      IN  223411322456765435   \n3                  GBP  iPhone      GB  223411322456765437   \n4                  INR  iPhone      IN  223411322456765438   \n...                ...     ...     ...                 ...   \n2375               MYR  iPhone      MY  223411322456766566   \n2376               USD  iPhone      US  223411322456766569   \n2377               INR  iPhone      IN  223411322456766571   \n2378               USD  iPhone      US  223411322456766572   \n2379               MYR  iPhone      MY  223411322456766573   \n\n     Subscriber ID Reset  Refund  Purchase Date  Units  \n0                    NaN     NaN            NaN      1  \n1                    NaN     NaN            NaN      1  \n2                    NaN     NaN            NaN      1  \n3                    NaN     NaN            NaN      1  \n4                    NaN     NaN            NaN      1  \n...                  ...     ...            ...    ...  \n2375                 NaN     NaN            NaN      1  \n2376                 NaN     NaN            NaN      1  \n2377                 NaN     NaN            NaN      1  \n2378                 NaN     NaN            NaN      1  \n2379                 NaN     NaN            NaN      1  \n\n[2380 rows x 18 columns]",
      "text/html": "<div>\n<style scoped>\n    .dataframe tbody tr th:only-of-type {\n        vertical-align: middle;\n    }\n\n    .dataframe tbody tr th {\n        vertical-align: top;\n    }\n\n    .dataframe thead th {\n        text-align: right;\n    }\n</style>\n<table border=\"1\" class=\"dataframe\">\n  <thead>\n    <tr style=\"text-align: right;\">\n      <th></th>\n      <th>Event Date</th>\n      <th>App Apple ID</th>\n      <th>Subscription Name</th>\n      <th>Standard Subscription Duration</th>\n      <th>Promotional Offer Name</th>\n      <th>Promotional Offer ID</th>\n      <th>Subscription Offer Type</th>\n      <th>Subscription Offer Duration</th>\n      <th>Marketing Opt-In Duration</th>\n      <th>Customer Currency</th>\n      <th>Proceeds Currency</th>\n      <th>Device</th>\n      <th>Country</th>\n      <th>Subscriber ID</th>\n      <th>Subscriber ID Reset</th>\n      <th>Refund</th>\n      <th>Purchase Date</th>\n      <th>Units</th>\n    </tr>\n  </thead>\n  <tbody>\n    <tr>\n      <th>0</th>\n      <td>2019-07-15</td>\n      <td>1</td>\n      <td>weekly 9.99 + 7D trial</td>\n      <td>7 Days</td>\n      <td>NaN</td>\n      <td>NaN</td>\n      <td>Free Trial</td>\n      <td>7 Days</td>\n      <td>NaN</td>\n      <td>IDR</td>\n      <td>IDR</td>\n      <td>iPhone</td>\n      <td>ID</td>\n      <td>223411322456765433</td>\n      <td>NaN</td>\n      <td>NaN</td>\n      <td>NaN</td>\n      <td>1</td>\n    </tr>\n    <tr>\n      <th>1</th>\n      <td>2019-07-15</td>\n      <td>1</td>\n      <td>weekly 9.99 + 7D trial</td>\n      <td>7 Days</td>\n      <td>NaN</td>\n      <td>NaN</td>\n      <td>Free Trial</td>\n      <td>7 Days</td>\n      <td>NaN</td>\n      <td>USD</td>\n      <td>USD</td>\n      <td>iPhone</td>\n      <td>US</td>\n      <td>223411322456765434</td>\n      <td>NaN</td>\n      <td>NaN</td>\n      <td>NaN</td>\n      <td>1</td>\n    </tr>\n    <tr>\n      <th>2</th>\n      <td>2019-07-15</td>\n      <td>1</td>\n      <td>weekly 9.99 + 7D trial</td>\n      <td>7 Days</td>\n      <td>NaN</td>\n      <td>NaN</td>\n      <td>Free Trial</td>\n      <td>7 Days</td>\n      <td>NaN</td>\n      <td>INR</td>\n      <td>INR</td>\n      <td>iPhone</td>\n      <td>IN</td>\n      <td>223411322456765435</td>\n      <td>NaN</td>\n      <td>NaN</td>\n      <td>NaN</td>\n      <td>1</td>\n    </tr>\n    <tr>\n      <th>3</th>\n      <td>2019-07-15</td>\n      <td>1</td>\n      <td>weekly 9.99 + 7D trial</td>\n      <td>7 Days</td>\n      <td>NaN</td>\n      <td>NaN</td>\n      <td>Free Trial</td>\n      <td>7 Days</td>\n      <td>NaN</td>\n      <td>GBP</td>\n      <td>GBP</td>\n      <td>iPhone</td>\n      <td>GB</td>\n      <td>223411322456765437</td>\n      <td>NaN</td>\n      <td>NaN</td>\n      <td>NaN</td>\n      <td>1</td>\n    </tr>\n    <tr>\n      <th>4</th>\n      <td>2019-07-15</td>\n      <td>1</td>\n      <td>weekly 9.99 + 7D trial</td>\n      <td>7 Days</td>\n      <td>NaN</td>\n      <td>NaN</td>\n      <td>Free Trial</td>\n      <td>7 Days</td>\n      <td>NaN</td>\n      <td>INR</td>\n      <td>INR</td>\n      <td>iPhone</td>\n      <td>IN</td>\n      <td>223411322456765438</td>\n      <td>NaN</td>\n      <td>NaN</td>\n      <td>NaN</td>\n      <td>1</td>\n    </tr>\n    <tr>\n      <th>...</th>\n      <td>...</td>\n      <td>...</td>\n      <td>...</td>\n      <td>...</td>\n      <td>...</td>\n      <td>...</td>\n      <td>...</td>\n      <td>...</td>\n      <td>...</td>\n      <td>...</td>\n      <td>...</td>\n      <td>...</td>\n      <td>...</td>\n      <td>...</td>\n      <td>...</td>\n      <td>...</td>\n      <td>...</td>\n      <td>...</td>\n    </tr>\n    <tr>\n      <th>2375</th>\n      <td>2019-08-24</td>\n      <td>1</td>\n      <td>weekly 9.99 + 7D trial</td>\n      <td>7 Days</td>\n      <td>NaN</td>\n      <td>NaN</td>\n      <td>NaN</td>\n      <td>NaN</td>\n      <td>NaN</td>\n      <td>MYR</td>\n      <td>MYR</td>\n      <td>iPhone</td>\n      <td>MY</td>\n      <td>223411322456766566</td>\n      <td>NaN</td>\n      <td>NaN</td>\n      <td>NaN</td>\n      <td>1</td>\n    </tr>\n    <tr>\n      <th>2376</th>\n      <td>2019-08-24</td>\n      <td>1</td>\n      <td>weekly 9.99 + 7D trial</td>\n      <td>7 Days</td>\n      <td>NaN</td>\n      <td>NaN</td>\n      <td>NaN</td>\n      <td>NaN</td>\n      <td>NaN</td>\n      <td>USD</td>\n      <td>USD</td>\n      <td>iPhone</td>\n      <td>US</td>\n      <td>223411322456766569</td>\n      <td>NaN</td>\n      <td>NaN</td>\n      <td>NaN</td>\n      <td>1</td>\n    </tr>\n    <tr>\n      <th>2377</th>\n      <td>2019-08-24</td>\n      <td>1</td>\n      <td>weekly 9.99 + 7D trial</td>\n      <td>7 Days</td>\n      <td>NaN</td>\n      <td>NaN</td>\n      <td>NaN</td>\n      <td>NaN</td>\n      <td>NaN</td>\n      <td>INR</td>\n      <td>INR</td>\n      <td>iPhone</td>\n      <td>IN</td>\n      <td>223411322456766571</td>\n      <td>NaN</td>\n      <td>NaN</td>\n      <td>NaN</td>\n      <td>1</td>\n    </tr>\n    <tr>\n      <th>2378</th>\n      <td>2019-08-24</td>\n      <td>1</td>\n      <td>weekly 9.99 + 7D trial</td>\n      <td>7 Days</td>\n      <td>NaN</td>\n      <td>NaN</td>\n      <td>NaN</td>\n      <td>NaN</td>\n      <td>NaN</td>\n      <td>USD</td>\n      <td>USD</td>\n      <td>iPhone</td>\n      <td>US</td>\n      <td>223411322456766572</td>\n      <td>NaN</td>\n      <td>NaN</td>\n      <td>NaN</td>\n      <td>1</td>\n    </tr>\n    <tr>\n      <th>2379</th>\n      <td>2019-08-24</td>\n      <td>1</td>\n      <td>weekly 9.99 + 7D trial</td>\n      <td>7 Days</td>\n      <td>NaN</td>\n      <td>NaN</td>\n      <td>NaN</td>\n      <td>NaN</td>\n      <td>NaN</td>\n      <td>MYR</td>\n      <td>MYR</td>\n      <td>iPhone</td>\n      <td>MY</td>\n      <td>223411322456766573</td>\n      <td>NaN</td>\n      <td>NaN</td>\n      <td>NaN</td>\n      <td>1</td>\n    </tr>\n  </tbody>\n</table>\n<p>2380 rows × 18 columns</p>\n</div>"
     },
     "execution_count": 13,
     "metadata": {},
     "output_type": "execute_result"
    }
   ]
  },
  {
   "metadata": {
    "pycharm": {
     "name": "#%%\n"
    },
    "trusted": true
   },
   "cell_type": "code",
   "source": [
    "raw_data.info()"
   ],
   "execution_count": 14,
   "outputs": [
    {
     "name": "stdout",
     "output_type": "stream",
     "text": [
      "<class 'pandas.core.frame.DataFrame'>\n",
      "RangeIndex: 2380 entries, 0 to 2379\n",
      "Data columns (total 18 columns):\n",
      " #   Column                          Non-Null Count  Dtype  \n",
      "---  ------                          --------------  -----  \n",
      " 0   Event Date                      2380 non-null   object \n",
      " 1   App Apple ID                    2380 non-null   int64  \n",
      " 2   Subscription Name               2380 non-null   object \n",
      " 3   Standard Subscription Duration  2380 non-null   object \n",
      " 4   Promotional Offer Name          0 non-null      float64\n",
      " 5   Promotional Offer ID            0 non-null      float64\n",
      " 6   Subscription Offer Type         1019 non-null   object \n",
      " 7   Subscription Offer Duration     1019 non-null   object \n",
      " 8   Marketing Opt-In Duration       0 non-null      float64\n",
      " 9   Customer Currency               2380 non-null   object \n",
      " 10  Proceeds Currency               2380 non-null   object \n",
      " 11  Device                          2380 non-null   object \n",
      " 12  Country                         2373 non-null   object \n",
      " 13  Subscriber ID                   2380 non-null   int64  \n",
      " 14  Subscriber ID Reset             4 non-null      object \n",
      " 15  Refund                          0 non-null      float64\n",
      " 16  Purchase Date                   0 non-null      float64\n",
      " 17  Units                           2380 non-null   int64  \n",
      "dtypes: float64(5), int64(3), object(10)\n",
      "memory usage: 334.8+ KB\n"
     ]
    }
   ]
  },
  {
   "metadata": {
    "pycharm": {
     "name": "#%%\n"
    },
    "trusted": true
   },
   "cell_type": "code",
   "source": [
    "raw_data.astype('object').describe()"
   ],
   "execution_count": 15,
   "outputs": [
    {
     "data": {
      "text/plain": "        Event Date  App Apple ID       Subscription Name  \\\ncount         2380          2380                    2380   \nunique          32             1                       1   \ntop     2019-07-18             1  weekly 9.99 + 7D trial   \nfreq           281          2380                    2380   \n\n       Standard Subscription Duration Promotional Offer Name  \\\ncount                            2380                      0   \nunique                              1                      0   \ntop                            7 Days                    NaN   \nfreq                             2380                    NaN   \n\n       Promotional Offer ID Subscription Offer Type  \\\ncount                     0                    1019   \nunique                    0                       1   \ntop                     NaN              Free Trial   \nfreq                    NaN                    1019   \n\n       Subscription Offer Duration Marketing Opt-In Duration  \\\ncount                         1019                         0   \nunique                           1                         0   \ntop                         7 Days                       NaN   \nfreq                          1019                       NaN   \n\n       Customer Currency Proceeds Currency  Device Country  \\\ncount               2380              2380    2380    2373   \nunique                34                34       2      65   \ntop                  USD               USD  iPhone      US   \nfreq                 648               648    2370     468   \n\n             Subscriber ID Subscriber ID Reset Refund Purchase Date  Units  \ncount                 2380                   4      0             0   2380  \nunique                1019                   1      0             0      1  \ntop     223411322456765460                 Yes    NaN           NaN      1  \nfreq                     6                   4    NaN           NaN   2380  ",
      "text/html": "<div>\n<style scoped>\n    .dataframe tbody tr th:only-of-type {\n        vertical-align: middle;\n    }\n\n    .dataframe tbody tr th {\n        vertical-align: top;\n    }\n\n    .dataframe thead th {\n        text-align: right;\n    }\n</style>\n<table border=\"1\" class=\"dataframe\">\n  <thead>\n    <tr style=\"text-align: right;\">\n      <th></th>\n      <th>Event Date</th>\n      <th>App Apple ID</th>\n      <th>Subscription Name</th>\n      <th>Standard Subscription Duration</th>\n      <th>Promotional Offer Name</th>\n      <th>Promotional Offer ID</th>\n      <th>Subscription Offer Type</th>\n      <th>Subscription Offer Duration</th>\n      <th>Marketing Opt-In Duration</th>\n      <th>Customer Currency</th>\n      <th>Proceeds Currency</th>\n      <th>Device</th>\n      <th>Country</th>\n      <th>Subscriber ID</th>\n      <th>Subscriber ID Reset</th>\n      <th>Refund</th>\n      <th>Purchase Date</th>\n      <th>Units</th>\n    </tr>\n  </thead>\n  <tbody>\n    <tr>\n      <th>count</th>\n      <td>2380</td>\n      <td>2380</td>\n      <td>2380</td>\n      <td>2380</td>\n      <td>0</td>\n      <td>0</td>\n      <td>1019</td>\n      <td>1019</td>\n      <td>0</td>\n      <td>2380</td>\n      <td>2380</td>\n      <td>2380</td>\n      <td>2373</td>\n      <td>2380</td>\n      <td>4</td>\n      <td>0</td>\n      <td>0</td>\n      <td>2380</td>\n    </tr>\n    <tr>\n      <th>unique</th>\n      <td>32</td>\n      <td>1</td>\n      <td>1</td>\n      <td>1</td>\n      <td>0</td>\n      <td>0</td>\n      <td>1</td>\n      <td>1</td>\n      <td>0</td>\n      <td>34</td>\n      <td>34</td>\n      <td>2</td>\n      <td>65</td>\n      <td>1019</td>\n      <td>1</td>\n      <td>0</td>\n      <td>0</td>\n      <td>1</td>\n    </tr>\n    <tr>\n      <th>top</th>\n      <td>2019-07-18</td>\n      <td>1</td>\n      <td>weekly 9.99 + 7D trial</td>\n      <td>7 Days</td>\n      <td>NaN</td>\n      <td>NaN</td>\n      <td>Free Trial</td>\n      <td>7 Days</td>\n      <td>NaN</td>\n      <td>USD</td>\n      <td>USD</td>\n      <td>iPhone</td>\n      <td>US</td>\n      <td>223411322456765460</td>\n      <td>Yes</td>\n      <td>NaN</td>\n      <td>NaN</td>\n      <td>1</td>\n    </tr>\n    <tr>\n      <th>freq</th>\n      <td>281</td>\n      <td>2380</td>\n      <td>2380</td>\n      <td>2380</td>\n      <td>NaN</td>\n      <td>NaN</td>\n      <td>1019</td>\n      <td>1019</td>\n      <td>NaN</td>\n      <td>648</td>\n      <td>648</td>\n      <td>2370</td>\n      <td>468</td>\n      <td>6</td>\n      <td>4</td>\n      <td>NaN</td>\n      <td>NaN</td>\n      <td>2380</td>\n    </tr>\n  </tbody>\n</table>\n</div>"
     },
     "execution_count": 15,
     "metadata": {},
     "output_type": "execute_result"
    }
   ]
  },
  {
   "metadata": {},
   "cell_type": "markdown",
   "source": [
    "Check if there are other app providers, besides App Store"
   ]
  },
  {
   "metadata": {
    "pycharm": {
     "name": "#%%\n"
    },
    "trusted": true
   },
   "cell_type": "code",
   "source": [
    "raw_data['Device'].unique()"
   ],
   "execution_count": 16,
   "outputs": [
    {
     "data": {
      "text/plain": "array(['iPhone', 'iPad'], dtype=object)"
     },
     "execution_count": 16,
     "metadata": {},
     "output_type": "execute_result"
    }
   ]
  },
  {
   "metadata": {},
   "cell_type": "markdown",
   "source": [
    "Check subscriber ID reset field"
   ]
  },
  {
   "metadata": {
    "pycharm": {
     "name": "#%%\n"
    },
    "trusted": true
   },
   "cell_type": "code",
   "source": [
    "raw_data[raw_data['Subscriber ID Reset'] == 'Yes']"
   ],
   "execution_count": 17,
   "outputs": [
    {
     "data": {
      "text/plain": "      Event Date  App Apple ID       Subscription Name  \\\n86    2019-07-15             1  weekly 9.99 + 7D trial   \n556   2019-07-18             1  weekly 9.99 + 7D trial   \n1105  2019-07-22             1  weekly 9.99 + 7D trial   \n1604  2019-07-29             1  weekly 9.99 + 7D trial   \n\n     Standard Subscription Duration  Promotional Offer Name  \\\n86                           7 Days                     NaN   \n556                          7 Days                     NaN   \n1105                         7 Days                     NaN   \n1604                         7 Days                     NaN   \n\n      Promotional Offer ID Subscription Offer Type  \\\n86                     NaN              Free Trial   \n556                    NaN              Free Trial   \n1105                   NaN                     NaN   \n1604                   NaN                     NaN   \n\n     Subscription Offer Duration  Marketing Opt-In Duration Customer Currency  \\\n86                        7 Days                        NaN               IDR   \n556                       7 Days                        NaN               RUB   \n1105                         NaN                        NaN               IDR   \n1604                         NaN                        NaN               IDR   \n\n     Proceeds Currency  Device Country       Subscriber ID  \\\n86                 IDR  iPhone      ID  223411322456765550   \n556                RUB  iPhone      RU  223411322456766205   \n1105               IDR  iPhone      ID  223411322456765550   \n1604               IDR  iPhone      ID  223411322456765550   \n\n     Subscriber ID Reset  Refund  Purchase Date  Units  \n86                   Yes     NaN            NaN      1  \n556                  Yes     NaN            NaN      1  \n1105                 Yes     NaN            NaN      1  \n1604                 Yes     NaN            NaN      1  ",
      "text/html": "<div>\n<style scoped>\n    .dataframe tbody tr th:only-of-type {\n        vertical-align: middle;\n    }\n\n    .dataframe tbody tr th {\n        vertical-align: top;\n    }\n\n    .dataframe thead th {\n        text-align: right;\n    }\n</style>\n<table border=\"1\" class=\"dataframe\">\n  <thead>\n    <tr style=\"text-align: right;\">\n      <th></th>\n      <th>Event Date</th>\n      <th>App Apple ID</th>\n      <th>Subscription Name</th>\n      <th>Standard Subscription Duration</th>\n      <th>Promotional Offer Name</th>\n      <th>Promotional Offer ID</th>\n      <th>Subscription Offer Type</th>\n      <th>Subscription Offer Duration</th>\n      <th>Marketing Opt-In Duration</th>\n      <th>Customer Currency</th>\n      <th>Proceeds Currency</th>\n      <th>Device</th>\n      <th>Country</th>\n      <th>Subscriber ID</th>\n      <th>Subscriber ID Reset</th>\n      <th>Refund</th>\n      <th>Purchase Date</th>\n      <th>Units</th>\n    </tr>\n  </thead>\n  <tbody>\n    <tr>\n      <th>86</th>\n      <td>2019-07-15</td>\n      <td>1</td>\n      <td>weekly 9.99 + 7D trial</td>\n      <td>7 Days</td>\n      <td>NaN</td>\n      <td>NaN</td>\n      <td>Free Trial</td>\n      <td>7 Days</td>\n      <td>NaN</td>\n      <td>IDR</td>\n      <td>IDR</td>\n      <td>iPhone</td>\n      <td>ID</td>\n      <td>223411322456765550</td>\n      <td>Yes</td>\n      <td>NaN</td>\n      <td>NaN</td>\n      <td>1</td>\n    </tr>\n    <tr>\n      <th>556</th>\n      <td>2019-07-18</td>\n      <td>1</td>\n      <td>weekly 9.99 + 7D trial</td>\n      <td>7 Days</td>\n      <td>NaN</td>\n      <td>NaN</td>\n      <td>Free Trial</td>\n      <td>7 Days</td>\n      <td>NaN</td>\n      <td>RUB</td>\n      <td>RUB</td>\n      <td>iPhone</td>\n      <td>RU</td>\n      <td>223411322456766205</td>\n      <td>Yes</td>\n      <td>NaN</td>\n      <td>NaN</td>\n      <td>1</td>\n    </tr>\n    <tr>\n      <th>1105</th>\n      <td>2019-07-22</td>\n      <td>1</td>\n      <td>weekly 9.99 + 7D trial</td>\n      <td>7 Days</td>\n      <td>NaN</td>\n      <td>NaN</td>\n      <td>NaN</td>\n      <td>NaN</td>\n      <td>NaN</td>\n      <td>IDR</td>\n      <td>IDR</td>\n      <td>iPhone</td>\n      <td>ID</td>\n      <td>223411322456765550</td>\n      <td>Yes</td>\n      <td>NaN</td>\n      <td>NaN</td>\n      <td>1</td>\n    </tr>\n    <tr>\n      <th>1604</th>\n      <td>2019-07-29</td>\n      <td>1</td>\n      <td>weekly 9.99 + 7D trial</td>\n      <td>7 Days</td>\n      <td>NaN</td>\n      <td>NaN</td>\n      <td>NaN</td>\n      <td>NaN</td>\n      <td>NaN</td>\n      <td>IDR</td>\n      <td>IDR</td>\n      <td>iPhone</td>\n      <td>ID</td>\n      <td>223411322456765550</td>\n      <td>Yes</td>\n      <td>NaN</td>\n      <td>NaN</td>\n      <td>1</td>\n    </tr>\n  </tbody>\n</table>\n</div>"
     },
     "execution_count": 17,
     "metadata": {},
     "output_type": "execute_result"
    }
   ]
  },
  {
   "metadata": {},
   "cell_type": "markdown",
   "source": [
    "## Clean\n",
    "Now we should drop useless columns and preprocess 'Paid Subscription' field"
   ]
  },
  {
   "metadata": {
    "pycharm": {
     "name": "#%%\n"
    },
    "trusted": true
   },
   "cell_type": "code",
   "source": [
    "def clean_data(data):\n",
    "    res = data.drop(['App Apple ID', 'Subscription Name', 'Standard Subscription Duration',\n",
    "               'Promotional Offer Name', 'Promotional Offer ID',\n",
    "               'Subscription Offer Duration', 'Marketing Opt-In Duration',\n",
    "               'Customer Currency', 'Proceeds Currency', 'Device',\n",
    "                     'Subscriber ID Reset', 'Refund', 'Purchase Date', 'Units'],\n",
    "                    axis=1)\n",
    "    res['Paid Subscriptions'] = res['Subscription Offer Type'] != 'Free Trial'\n",
    "    res.drop('Subscription Offer Type', inplace=True, axis=1)\n",
    "    return res\n",
    "\n",
    "data = clean_data(raw_data)\n",
    "data"
   ],
   "execution_count": 18,
   "outputs": [
    {
     "data": {
      "text/plain": "      Event Date Country       Subscriber ID  Paid Subscriptions\n0     2019-07-15      ID  223411322456765433               False\n1     2019-07-15      US  223411322456765434               False\n2     2019-07-15      IN  223411322456765435               False\n3     2019-07-15      GB  223411322456765437               False\n4     2019-07-15      IN  223411322456765438               False\n...          ...     ...                 ...                 ...\n2375  2019-08-24      MY  223411322456766566                True\n2376  2019-08-24      US  223411322456766569                True\n2377  2019-08-24      IN  223411322456766571                True\n2378  2019-08-24      US  223411322456766572                True\n2379  2019-08-24      MY  223411322456766573                True\n\n[2380 rows x 4 columns]",
      "text/html": "<div>\n<style scoped>\n    .dataframe tbody tr th:only-of-type {\n        vertical-align: middle;\n    }\n\n    .dataframe tbody tr th {\n        vertical-align: top;\n    }\n\n    .dataframe thead th {\n        text-align: right;\n    }\n</style>\n<table border=\"1\" class=\"dataframe\">\n  <thead>\n    <tr style=\"text-align: right;\">\n      <th></th>\n      <th>Event Date</th>\n      <th>Country</th>\n      <th>Subscriber ID</th>\n      <th>Paid Subscriptions</th>\n    </tr>\n  </thead>\n  <tbody>\n    <tr>\n      <th>0</th>\n      <td>2019-07-15</td>\n      <td>ID</td>\n      <td>223411322456765433</td>\n      <td>False</td>\n    </tr>\n    <tr>\n      <th>1</th>\n      <td>2019-07-15</td>\n      <td>US</td>\n      <td>223411322456765434</td>\n      <td>False</td>\n    </tr>\n    <tr>\n      <th>2</th>\n      <td>2019-07-15</td>\n      <td>IN</td>\n      <td>223411322456765435</td>\n      <td>False</td>\n    </tr>\n    <tr>\n      <th>3</th>\n      <td>2019-07-15</td>\n      <td>GB</td>\n      <td>223411322456765437</td>\n      <td>False</td>\n    </tr>\n    <tr>\n      <th>4</th>\n      <td>2019-07-15</td>\n      <td>IN</td>\n      <td>223411322456765438</td>\n      <td>False</td>\n    </tr>\n    <tr>\n      <th>...</th>\n      <td>...</td>\n      <td>...</td>\n      <td>...</td>\n      <td>...</td>\n    </tr>\n    <tr>\n      <th>2375</th>\n      <td>2019-08-24</td>\n      <td>MY</td>\n      <td>223411322456766566</td>\n      <td>True</td>\n    </tr>\n    <tr>\n      <th>2376</th>\n      <td>2019-08-24</td>\n      <td>US</td>\n      <td>223411322456766569</td>\n      <td>True</td>\n    </tr>\n    <tr>\n      <th>2377</th>\n      <td>2019-08-24</td>\n      <td>IN</td>\n      <td>223411322456766571</td>\n      <td>True</td>\n    </tr>\n    <tr>\n      <th>2378</th>\n      <td>2019-08-24</td>\n      <td>US</td>\n      <td>223411322456766572</td>\n      <td>True</td>\n    </tr>\n    <tr>\n      <th>2379</th>\n      <td>2019-08-24</td>\n      <td>MY</td>\n      <td>223411322456766573</td>\n      <td>True</td>\n    </tr>\n  </tbody>\n</table>\n<p>2380 rows × 4 columns</p>\n</div>"
     },
     "execution_count": 18,
     "metadata": {},
     "output_type": "execute_result"
    }
   ]
  },
  {
   "metadata": {},
   "cell_type": "markdown",
   "source": [
    "## Calc\n",
    "Now we should group information by subscriber id in order to combine all transactions that belong to specific user. \n",
    "We sum all subscriptions (0 - trial, 1 - paid). And after that we can simply multiply number of paid subscriptions by\n",
    "the subscription price and commission (we get only 70% of all income)."
   ]
  },
  {
   "metadata": {
    "pycharm": {
     "name": "#%%\n"
    },
    "trusted": true
   },
   "cell_type": "code",
   "source": [
    "ltv = pd.DataFrame(data.groupby('Subscriber ID')['Paid Subscriptions'].sum())\n",
    "ltv['LTV'] = ltv['Paid Subscriptions'] * 9.99 * 0.7\n",
    "ltv"
   ],
   "execution_count": 19,
   "outputs": [
    {
     "data": {
      "text/plain": "                    Paid Subscriptions     LTV\nSubscriber ID                                 \n223411322456765433                   5  34.965\n223411322456765434                   5  34.965\n223411322456765435                   5  34.965\n223411322456765437                   5  34.965\n223411322456765438                   5  34.965\n...                                ...     ...\n223411322456766800                   0   0.000\n223411322456766801                   0   0.000\n223411322456766802                   0   0.000\n223411322456766805                   0   0.000\n223411322456766808                   0   0.000\n\n[1019 rows x 2 columns]",
      "text/html": "<div>\n<style scoped>\n    .dataframe tbody tr th:only-of-type {\n        vertical-align: middle;\n    }\n\n    .dataframe tbody tr th {\n        vertical-align: top;\n    }\n\n    .dataframe thead th {\n        text-align: right;\n    }\n</style>\n<table border=\"1\" class=\"dataframe\">\n  <thead>\n    <tr style=\"text-align: right;\">\n      <th></th>\n      <th>Paid Subscriptions</th>\n      <th>LTV</th>\n    </tr>\n    <tr>\n      <th>Subscriber ID</th>\n      <th></th>\n      <th></th>\n    </tr>\n  </thead>\n  <tbody>\n    <tr>\n      <th>223411322456765433</th>\n      <td>5</td>\n      <td>34.965</td>\n    </tr>\n    <tr>\n      <th>223411322456765434</th>\n      <td>5</td>\n      <td>34.965</td>\n    </tr>\n    <tr>\n      <th>223411322456765435</th>\n      <td>5</td>\n      <td>34.965</td>\n    </tr>\n    <tr>\n      <th>223411322456765437</th>\n      <td>5</td>\n      <td>34.965</td>\n    </tr>\n    <tr>\n      <th>223411322456765438</th>\n      <td>5</td>\n      <td>34.965</td>\n    </tr>\n    <tr>\n      <th>...</th>\n      <td>...</td>\n      <td>...</td>\n    </tr>\n    <tr>\n      <th>223411322456766800</th>\n      <td>0</td>\n      <td>0.000</td>\n    </tr>\n    <tr>\n      <th>223411322456766801</th>\n      <td>0</td>\n      <td>0.000</td>\n    </tr>\n    <tr>\n      <th>223411322456766802</th>\n      <td>0</td>\n      <td>0.000</td>\n    </tr>\n    <tr>\n      <th>223411322456766805</th>\n      <td>0</td>\n      <td>0.000</td>\n    </tr>\n    <tr>\n      <th>223411322456766808</th>\n      <td>0</td>\n      <td>0.000</td>\n    </tr>\n  </tbody>\n</table>\n<p>1019 rows × 2 columns</p>\n</div>"
     },
     "execution_count": 19,
     "metadata": {},
     "output_type": "execute_result"
    }
   ]
  },
  {
   "metadata": {
    "pycharm": {
     "name": "#%%\n"
    },
    "trusted": true
   },
   "cell_type": "code",
   "source": [
    "ltv.to_csv('../data/out/ltv.csv')"
   ],
   "execution_count": 20,
   "outputs": []
  },
  {
   "metadata": {
    "pycharm": {
     "name": "#%%\n"
    },
    "trusted": true
   },
   "cell_type": "code",
   "source": "data_ltv = data.merge(ltv, left_on='Subscriber ID', right_on='Subscriber ID', how='outer')\ndata_ltv",
   "execution_count": 21,
   "outputs": [
    {
     "data": {
      "text/plain": "      Event Date Country       Subscriber ID  Paid Subscriptions_x  \\\n0     2019-07-15      ID  223411322456765433                 False   \n1     2019-07-22      ID  223411322456765433                  True   \n2     2019-07-29      ID  223411322456765433                  True   \n3     2019-08-05      ID  223411322456765433                  True   \n4     2019-08-12      ID  223411322456765433                  True   \n...          ...     ...                 ...                   ...   \n2375  2019-07-20     NaN  223411322456766800                 False   \n2376  2019-07-20      AE  223411322456766801                 False   \n2377  2019-07-20      IN  223411322456766802                 False   \n2378  2019-07-20      SE  223411322456766805                 False   \n2379  2019-07-20      IN  223411322456766808                 False   \n\n      Paid Subscriptions_y     LTV  \n0                        5  34.965  \n1                        5  34.965  \n2                        5  34.965  \n3                        5  34.965  \n4                        5  34.965  \n...                    ...     ...  \n2375                     0   0.000  \n2376                     0   0.000  \n2377                     0   0.000  \n2378                     0   0.000  \n2379                     0   0.000  \n\n[2380 rows x 6 columns]",
      "text/html": "<div>\n<style scoped>\n    .dataframe tbody tr th:only-of-type {\n        vertical-align: middle;\n    }\n\n    .dataframe tbody tr th {\n        vertical-align: top;\n    }\n\n    .dataframe thead th {\n        text-align: right;\n    }\n</style>\n<table border=\"1\" class=\"dataframe\">\n  <thead>\n    <tr style=\"text-align: right;\">\n      <th></th>\n      <th>Event Date</th>\n      <th>Country</th>\n      <th>Subscriber ID</th>\n      <th>Paid Subscriptions_x</th>\n      <th>Paid Subscriptions_y</th>\n      <th>LTV</th>\n    </tr>\n  </thead>\n  <tbody>\n    <tr>\n      <th>0</th>\n      <td>2019-07-15</td>\n      <td>ID</td>\n      <td>223411322456765433</td>\n      <td>False</td>\n      <td>5</td>\n      <td>34.965</td>\n    </tr>\n    <tr>\n      <th>1</th>\n      <td>2019-07-22</td>\n      <td>ID</td>\n      <td>223411322456765433</td>\n      <td>True</td>\n      <td>5</td>\n      <td>34.965</td>\n    </tr>\n    <tr>\n      <th>2</th>\n      <td>2019-07-29</td>\n      <td>ID</td>\n      <td>223411322456765433</td>\n      <td>True</td>\n      <td>5</td>\n      <td>34.965</td>\n    </tr>\n    <tr>\n      <th>3</th>\n      <td>2019-08-05</td>\n      <td>ID</td>\n      <td>223411322456765433</td>\n      <td>True</td>\n      <td>5</td>\n      <td>34.965</td>\n    </tr>\n    <tr>\n      <th>4</th>\n      <td>2019-08-12</td>\n      <td>ID</td>\n      <td>223411322456765433</td>\n      <td>True</td>\n      <td>5</td>\n      <td>34.965</td>\n    </tr>\n    <tr>\n      <th>...</th>\n      <td>...</td>\n      <td>...</td>\n      <td>...</td>\n      <td>...</td>\n      <td>...</td>\n      <td>...</td>\n    </tr>\n    <tr>\n      <th>2375</th>\n      <td>2019-07-20</td>\n      <td>NaN</td>\n      <td>223411322456766800</td>\n      <td>False</td>\n      <td>0</td>\n      <td>0.000</td>\n    </tr>\n    <tr>\n      <th>2376</th>\n      <td>2019-07-20</td>\n      <td>AE</td>\n      <td>223411322456766801</td>\n      <td>False</td>\n      <td>0</td>\n      <td>0.000</td>\n    </tr>\n    <tr>\n      <th>2377</th>\n      <td>2019-07-20</td>\n      <td>IN</td>\n      <td>223411322456766802</td>\n      <td>False</td>\n      <td>0</td>\n      <td>0.000</td>\n    </tr>\n    <tr>\n      <th>2378</th>\n      <td>2019-07-20</td>\n      <td>SE</td>\n      <td>223411322456766805</td>\n      <td>False</td>\n      <td>0</td>\n      <td>0.000</td>\n    </tr>\n    <tr>\n      <th>2379</th>\n      <td>2019-07-20</td>\n      <td>IN</td>\n      <td>223411322456766808</td>\n      <td>False</td>\n      <td>0</td>\n      <td>0.000</td>\n    </tr>\n  </tbody>\n</table>\n<p>2380 rows × 6 columns</p>\n</div>"
     },
     "execution_count": 21,
     "metadata": {},
     "output_type": "execute_result"
    }
   ]
  },
  {
   "metadata": {},
   "cell_type": "markdown",
   "source": "## Result\nNow we can analyze resulted ltv and build simple pie-graph to understand the distribution of this value\nover all countries."
  },
  {
   "metadata": {
    "pycharm": {
     "name": "#%%\n"
    },
    "trusted": true
   },
   "cell_type": "code",
   "source": "import matplotlib.pyplot as plt\n\nltv_per_country = data_ltv.groupby('Country')['LTV'].sum()\n\nsum = ltv_per_country.sum()\nsmall_impact = ltv_per_country[ltv_per_country <= sum * 0.03]\nsmall_impact_sum = small_impact.sum()\n\nbig_impact = ltv_per_country - small_impact\n\nto_show = ltv_per_country[ltv_per_country.index.difference(small_impact.index)].sort_values(ascending=False)\nto_show.at['Other, value < 3%'] = small_impact_sum\nto_show = to_show[::-1]\n\nplt.pie(to_show,\n        labels=to_show.index.map(mapper=lambda x: \"%s, %d\" % (x, to_show[x])),\n        startangle=90, counterclock=False)\nplt.show()",
   "execution_count": 22,
   "outputs": [
    {
     "data": {
      "text/plain": "<Figure size 432x288 with 1 Axes>",
      "image/png": "[encoded data removed]"
     },
     "metadata": {},
     "output_type": "display_data"
    }
   ]
  },
  {
   "metadata": {
    "pycharm": {
     "name": "#%%\n"
    },
    "trusted": true
   },
   "cell_type": "code",
   "source": "",
   "execution_count": 22,
   "outputs": []
  }
 ],
 "metadata": {
  "kernelspec": {
   "name": "python3",
   "display_name": "Python 3",
   "language": "python"
  },
  "language_info": {
   "name": "python",
   "version": "3.7.6",
   "mimetype": "text/x-python",
   "codemirror_mode": {
    "name": "ipython",
    "version": 3
   },
   "pygments_lexer": "ipython3",
   "nbconvert_exporter": "python",
   "file_extension": ".py"
  }
 },
 "nbformat": 4,
 "nbformat_minor": 4
}